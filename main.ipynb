{
 "cells": [
  {
   "cell_type": "code",
   "execution_count": 2,
   "id": "ef7fe37c",
   "metadata": {},
   "outputs": [],
   "source": [
    "\n",
    "import os, math, warnings\n",
    "warnings.filterwarnings(\"ignore\")\n",
    "\n",
    "import numpy as np\n",
    "import pandas as pd\n",
    "import matplotlib.pyplot as plt\n",
    "\n",
    "from pathlib import Path\n",
    "from typing import List, Tuple, Optional\n",
    "\n",
    "from sklearn.model_selection import train_test_split\n",
    "from sklearn.preprocessing import OneHotEncoder, StandardScaler, LabelEncoder\n",
    "from sklearn.compose import ColumnTransformer\n",
    "from sklearn.pipeline import Pipeline\n",
    "from sklearn.impute import SimpleImputer\n",
    "\n",
    "from sklearn.svm import SVC\n",
    "from sklearn.tree import DecisionTreeClassifier\n",
    "\n",
    "from sklearn.metrics import (accuracy_score, precision_score, recall_score, f1_score,\n",
    "                             roc_curve, auc, classification_report, confusion_matrix,\n",
    "                             silhouette_score)\n",
    "\n",
    "from sklearn.decomposition import PCA\n",
    "from sklearn.cluster import KMeans\n",
    "\n",
    "RANDOM_STATE = 42\n",
    "np.random.seed(RANDOM_STATE)\n",
    "\n",
    "OUTPUT_DIR = Path(\"outputs\")\n",
    "OUTPUT_DIR.mkdir(exist_ok=True)\n"
   ]
  },
  {
   "cell_type": "code",
   "execution_count": 7,
   "id": "ea4030ed",
   "metadata": {},
   "outputs": [
    {
     "data": {
      "text/html": [
       "<div>\n",
       "<style scoped>\n",
       "    .dataframe tbody tr th:only-of-type {\n",
       "        vertical-align: middle;\n",
       "    }\n",
       "\n",
       "    .dataframe tbody tr th {\n",
       "        vertical-align: top;\n",
       "    }\n",
       "\n",
       "    .dataframe thead th {\n",
       "        text-align: right;\n",
       "    }\n",
       "</style>\n",
       "<table border=\"1\" class=\"dataframe\">\n",
       "  <thead>\n",
       "    <tr style=\"text-align: right;\">\n",
       "      <th></th>\n",
       "      <th>Time_spent_Alone</th>\n",
       "      <th>Stage_fear</th>\n",
       "      <th>Social_event_attendance</th>\n",
       "      <th>Going_outside</th>\n",
       "      <th>Drained_after_socializing</th>\n",
       "      <th>Friends_circle_size</th>\n",
       "      <th>Post_frequency</th>\n",
       "      <th>Personality</th>\n",
       "    </tr>\n",
       "  </thead>\n",
       "  <tbody>\n",
       "    <tr>\n",
       "      <th>0</th>\n",
       "      <td>4.0</td>\n",
       "      <td>No</td>\n",
       "      <td>4.0</td>\n",
       "      <td>6.0</td>\n",
       "      <td>No</td>\n",
       "      <td>13.0</td>\n",
       "      <td>5.0</td>\n",
       "      <td>Extrovert</td>\n",
       "    </tr>\n",
       "    <tr>\n",
       "      <th>1</th>\n",
       "      <td>9.0</td>\n",
       "      <td>Yes</td>\n",
       "      <td>0.0</td>\n",
       "      <td>0.0</td>\n",
       "      <td>Yes</td>\n",
       "      <td>0.0</td>\n",
       "      <td>3.0</td>\n",
       "      <td>Introvert</td>\n",
       "    </tr>\n",
       "    <tr>\n",
       "      <th>2</th>\n",
       "      <td>9.0</td>\n",
       "      <td>Yes</td>\n",
       "      <td>1.0</td>\n",
       "      <td>2.0</td>\n",
       "      <td>Yes</td>\n",
       "      <td>5.0</td>\n",
       "      <td>2.0</td>\n",
       "      <td>Introvert</td>\n",
       "    </tr>\n",
       "    <tr>\n",
       "      <th>3</th>\n",
       "      <td>0.0</td>\n",
       "      <td>No</td>\n",
       "      <td>6.0</td>\n",
       "      <td>7.0</td>\n",
       "      <td>No</td>\n",
       "      <td>14.0</td>\n",
       "      <td>8.0</td>\n",
       "      <td>Extrovert</td>\n",
       "    </tr>\n",
       "    <tr>\n",
       "      <th>4</th>\n",
       "      <td>3.0</td>\n",
       "      <td>No</td>\n",
       "      <td>9.0</td>\n",
       "      <td>4.0</td>\n",
       "      <td>No</td>\n",
       "      <td>8.0</td>\n",
       "      <td>5.0</td>\n",
       "      <td>Extrovert</td>\n",
       "    </tr>\n",
       "  </tbody>\n",
       "</table>\n",
       "</div>"
      ],
      "text/plain": [
       "   Time_spent_Alone Stage_fear  Social_event_attendance  Going_outside  \\\n",
       "0               4.0         No                      4.0            6.0   \n",
       "1               9.0        Yes                      0.0            0.0   \n",
       "2               9.0        Yes                      1.0            2.0   \n",
       "3               0.0         No                      6.0            7.0   \n",
       "4               3.0         No                      9.0            4.0   \n",
       "\n",
       "  Drained_after_socializing  Friends_circle_size  Post_frequency Personality  \n",
       "0                        No                 13.0             5.0   Extrovert  \n",
       "1                       Yes                  0.0             3.0   Introvert  \n",
       "2                       Yes                  5.0             2.0   Introvert  \n",
       "3                        No                 14.0             8.0   Extrovert  \n",
       "4                        No                  8.0             5.0   Extrovert  "
      ]
     },
     "execution_count": 7,
     "metadata": {},
     "output_type": "execute_result"
    }
   ],
   "source": [
    "df = pd.read_csv(\"./personality_dataset.csv\")\n",
    "data = df.copy() #a copy of data\n",
    "df.shape\n",
    "df.head()"
   ]
  },
  {
   "cell_type": "code",
   "execution_count": 8,
   "id": "30f9755b",
   "metadata": {},
   "outputs": [
    {
     "data": {
      "text/plain": [
       "Friends_circle_size    0.026552\n",
       "Stage_fear             0.025172\n",
       "Going_outside          0.022759\n",
       "Post_frequency         0.022414\n",
       "Time_spent_Alone       0.021724\n",
       "dtype: float64"
      ]
     },
     "execution_count": 8,
     "metadata": {},
     "output_type": "execute_result"
    }
   ],
   "source": [
    "na_rate = df.isna().mean().sort_values(ascending=False)\n",
    "na_rate.head()"
   ]
  },
  {
   "cell_type": "code",
   "execution_count": 9,
   "id": "7e1b3b58",
   "metadata": {},
   "outputs": [],
   "source": [
    "X = df.drop('Personality' , axis=1)\n",
    "y = df['Personality']"
   ]
  },
  {
   "cell_type": "markdown",
   "id": "fc235c75",
   "metadata": {},
   "source": [
    "# Remove duplicate rows"
   ]
  },
  {
   "cell_type": "code",
   "execution_count": 10,
   "id": "0ba40ecf",
   "metadata": {},
   "outputs": [
    {
     "name": "stdout",
     "output_type": "stream",
     "text": [
      "Duplicates removed: 388\n"
     ]
    }
   ],
   "source": [
    "before = len(data)\n",
    "data = data.drop_duplicates()\n",
    "print(f\"Duplicates removed: {before - len(data)}\")"
   ]
  },
  {
   "cell_type": "markdown",
   "id": "fecc7b06",
   "metadata": {},
   "source": [
    "# Remove fixed columns"
   ]
  },
  {
   "cell_type": "code",
   "execution_count": 11,
   "id": "acff3fe8",
   "metadata": {},
   "outputs": [],
   "source": [
    "nunique = data.nunique(dropna=False)\n",
    "constant_cols = nunique[nunique <= 1].index.tolist()\n",
    "if constant_cols:\n",
    "    print(\"Dropped constant columns:\", constant_cols)\n",
    "    data = data.drop(columns=constant_cols)"
   ]
  },
  {
   "cell_type": "markdown",
   "id": "19456c0b",
   "metadata": {},
   "source": [
    "# If the 'Personality' tag is also Missing, we delete its rows"
   ]
  },
  {
   "cell_type": "code",
   "execution_count": 12,
   "id": "70616457",
   "metadata": {},
   "outputs": [],
   "source": [
    "missing_y = data[\"Personality\"].isna().sum()\n",
    "if missing_y:\n",
    "    print(\"Rows removed due to missing target:\", missing_y)\n",
    "    data = data[~data[\"Personality\"].isna()].copy()"
   ]
  },
  {
   "cell_type": "code",
   "execution_count": 13,
   "id": "c9d24025",
   "metadata": {},
   "outputs": [
    {
     "name": "stdout",
     "output_type": "stream",
     "text": [
      "Shape after basic cleaning: (2512, 8)\n"
     ]
    },
    {
     "data": {
      "text/html": [
       "<div>\n",
       "<style scoped>\n",
       "    .dataframe tbody tr th:only-of-type {\n",
       "        vertical-align: middle;\n",
       "    }\n",
       "\n",
       "    .dataframe tbody tr th {\n",
       "        vertical-align: top;\n",
       "    }\n",
       "\n",
       "    .dataframe thead th {\n",
       "        text-align: right;\n",
       "    }\n",
       "</style>\n",
       "<table border=\"1\" class=\"dataframe\">\n",
       "  <thead>\n",
       "    <tr style=\"text-align: right;\">\n",
       "      <th></th>\n",
       "      <th>Time_spent_Alone</th>\n",
       "      <th>Stage_fear</th>\n",
       "      <th>Social_event_attendance</th>\n",
       "      <th>Going_outside</th>\n",
       "      <th>Drained_after_socializing</th>\n",
       "      <th>Friends_circle_size</th>\n",
       "      <th>Post_frequency</th>\n",
       "      <th>Personality</th>\n",
       "    </tr>\n",
       "  </thead>\n",
       "  <tbody>\n",
       "    <tr>\n",
       "      <th>0</th>\n",
       "      <td>4.0</td>\n",
       "      <td>No</td>\n",
       "      <td>4.0</td>\n",
       "      <td>6.0</td>\n",
       "      <td>No</td>\n",
       "      <td>13.0</td>\n",
       "      <td>5.0</td>\n",
       "      <td>Extrovert</td>\n",
       "    </tr>\n",
       "    <tr>\n",
       "      <th>1</th>\n",
       "      <td>9.0</td>\n",
       "      <td>Yes</td>\n",
       "      <td>0.0</td>\n",
       "      <td>0.0</td>\n",
       "      <td>Yes</td>\n",
       "      <td>0.0</td>\n",
       "      <td>3.0</td>\n",
       "      <td>Introvert</td>\n",
       "    </tr>\n",
       "    <tr>\n",
       "      <th>2</th>\n",
       "      <td>9.0</td>\n",
       "      <td>Yes</td>\n",
       "      <td>1.0</td>\n",
       "      <td>2.0</td>\n",
       "      <td>Yes</td>\n",
       "      <td>5.0</td>\n",
       "      <td>2.0</td>\n",
       "      <td>Introvert</td>\n",
       "    </tr>\n",
       "    <tr>\n",
       "      <th>3</th>\n",
       "      <td>0.0</td>\n",
       "      <td>No</td>\n",
       "      <td>6.0</td>\n",
       "      <td>7.0</td>\n",
       "      <td>No</td>\n",
       "      <td>14.0</td>\n",
       "      <td>8.0</td>\n",
       "      <td>Extrovert</td>\n",
       "    </tr>\n",
       "    <tr>\n",
       "      <th>4</th>\n",
       "      <td>3.0</td>\n",
       "      <td>No</td>\n",
       "      <td>9.0</td>\n",
       "      <td>4.0</td>\n",
       "      <td>No</td>\n",
       "      <td>8.0</td>\n",
       "      <td>5.0</td>\n",
       "      <td>Extrovert</td>\n",
       "    </tr>\n",
       "  </tbody>\n",
       "</table>\n",
       "</div>"
      ],
      "text/plain": [
       "   Time_spent_Alone Stage_fear  Social_event_attendance  Going_outside  \\\n",
       "0               4.0         No                      4.0            6.0   \n",
       "1               9.0        Yes                      0.0            0.0   \n",
       "2               9.0        Yes                      1.0            2.0   \n",
       "3               0.0         No                      6.0            7.0   \n",
       "4               3.0         No                      9.0            4.0   \n",
       "\n",
       "  Drained_after_socializing  Friends_circle_size  Post_frequency Personality  \n",
       "0                        No                 13.0             5.0   Extrovert  \n",
       "1                       Yes                  0.0             3.0   Introvert  \n",
       "2                       Yes                  5.0             2.0   Introvert  \n",
       "3                        No                 14.0             8.0   Extrovert  \n",
       "4                        No                  8.0             5.0   Extrovert  "
      ]
     },
     "execution_count": 13,
     "metadata": {},
     "output_type": "execute_result"
    }
   ],
   "source": [
    "\n",
    "print(\"Shape after basic cleaning:\", data.shape)\n",
    "data.head()"
   ]
  },
  {
   "cell_type": "markdown",
   "id": "0afff2ea",
   "metadata": {},
   "source": [
    "# Missing rate report by column"
   ]
  },
  {
   "cell_type": "code",
   "execution_count": 14,
   "id": "24e38297",
   "metadata": {},
   "outputs": [
    {
     "data": {
      "text/plain": [
       "Friends_circle_size          0.029857\n",
       "Stage_fear                   0.029061\n",
       "Going_outside                0.025876\n",
       "Post_frequency               0.025080\n",
       "Social_event_attendance      0.024283\n",
       "Time_spent_Alone             0.024283\n",
       "Drained_after_socializing    0.020303\n",
       "Personality                  0.000000\n",
       "dtype: float64"
      ]
     },
     "metadata": {},
     "output_type": "display_data"
    }
   ],
   "source": [
    "na_rate = data.isna().mean().sort_values(ascending=False)\n",
    "display(na_rate.head(20))"
   ]
  },
  {
   "cell_type": "markdown",
   "id": "0f8d5b43",
   "metadata": {},
   "source": [
    "# Threshold for deleting columns due to high Missing"
   ]
  },
  {
   "cell_type": "code",
   "execution_count": 15,
   "id": "0ba1746e",
   "metadata": {},
   "outputs": [],
   "source": [
    "COL_DROP_THRESHOLD = 0.60\n",
    "cols_to_drop = na_rate[na_rate > COL_DROP_THRESHOLD].index.tolist()\n",
    "if cols_to_drop:\n",
    "    print(\"Dropping columns (too many missing):\", cols_to_drop)\n",
    "    data = data.drop(columns=cols_to_drop)"
   ]
  },
  {
   "cell_type": "markdown",
   "id": "698fcc8b",
   "metadata": {},
   "source": [
    "# Specifying numeric/text columns for pivoting"
   ]
  },
  {
   "cell_type": "code",
   "execution_count": 17,
   "id": "72f977bd",
   "metadata": {},
   "outputs": [
    {
     "name": "stdout",
     "output_type": "stream",
     "text": [
      "Numeric columns: ['Time_spent_Alone', 'Social_event_attendance', 'Going_outside', 'Friends_circle_size', 'Post_frequency'] ... total: 5\n",
      "Categorical columns: ['Stage_fear', 'Drained_after_socializing'] ... total: 2\n"
     ]
    }
   ],
   "source": [
    "cat_cols = data.drop(columns=[\"Personality\"]).select_dtypes(include=\"object\").columns.tolist()\n",
    "num_cols = data.drop(columns=[\"Personality\"]).select_dtypes(exclude=\"object\").columns.tolist()\n",
    "print(\"Numeric columns:\", num_cols[:10], \"... total:\", len(num_cols))\n",
    "print(\"Categorical columns:\", cat_cols[:10], \"... total:\", len(cat_cols))\n",
    "for c in num_cols:\n",
    "    if data[c].isna().any():\n",
    "        med = data[c].median()\n",
    "        data[c] = data[c].fillna(med)\n",
    "for c in cat_cols:\n",
    "    if data[c].isna().any():\n",
    "        mode_val = data[c].mode(dropna=True)\n",
    "        fill_val = mode_val.iloc[0] if len(mode_val) else \"missing\"\n",
    "        data[c] = data[c].fillna(fill_val)"
   ]
  },
  {
   "cell_type": "code",
   "execution_count": 18,
   "id": "dfe051bb",
   "metadata": {},
   "outputs": [
    {
     "name": "stdout",
     "output_type": "stream",
     "text": [
      "Remaining missing (should be 0 except rare cases):\n",
      "0 cells\n"
     ]
    }
   ],
   "source": [
    "print(\"Remaining missing (should be 0 except rare cases):\")\n",
    "print(data.isna().sum().sum(), \"cells\")"
   ]
  },
  {
   "cell_type": "markdown",
   "id": "fc652965",
   "metadata": {},
   "source": [
    "# Identify and manage Outliers data"
   ]
  },
  {
   "cell_type": "code",
   "execution_count": 19,
   "id": "78970bc2",
   "metadata": {},
   "outputs": [
    {
     "name": "stdout",
     "output_type": "stream",
     "text": [
      "Remaining extreme points (|z|>4) ~ rough check: 0\n",
      "Final shapes -> X: (2512, 7)  y: (2512,)\n"
     ]
    }
   ],
   "source": [
    "def cap_outliers_iqr(df_num: pd.DataFrame, cols, iqr_mult=1.5, report=True):\n",
    "    dfc = df_num.copy()\n",
    "    changed = {}\n",
    "    for col in cols:\n",
    "        s = dfc[col].astype(float)\n",
    "        q1, q3 = s.quantile(0.25), s.quantile(0.75)\n",
    "        iqr = q3 - q1\n",
    "        if pd.isna(iqr) or iqr == 0:\n",
    "            continue\n",
    "        lo, hi = q1 - iqr_mult * iqr, q3 + iqr_mult * iqr\n",
    "        before = ((s < lo) | (s > hi)).sum()\n",
    "        dfc[col] = s.clip(lo, hi)\n",
    "        after = ((dfc[col] < lo) | (dfc[col] > hi)).sum()\n",
    "        if report and before > 0:\n",
    "            changed[col] = {\"capped_count\": int(before), \"low\": float(lo), \"high\": float(hi)}\n",
    "    if report and changed:\n",
    "        print(\"IQR capping report (counts & bounds):\")\n",
    "        for k, v in changed.items():\n",
    "            print(f\" - {k}: capped={v['capped_count']}  bounds=({v['low']:.3f}, {v['high']:.3f})\")\n",
    "    return dfc\n",
    "\n",
    "\n",
    "data[num_cols] = cap_outliers_iqr(data[num_cols], num_cols, iqr_mult=1.5)\n",
    "\n",
    "\n",
    "from scipy.stats import zscore\n",
    "z = data[num_cols].apply(lambda s: np.abs(zscore(s, nan_policy='omit')))\n",
    "still_outliers = (z > 4).sum().sum()\n",
    "print(\"Remaining extreme points (|z|>4) ~ rough check:\", int(still_outliers))\n",
    "\n",
    "\n",
    "X_clean = data.drop(columns=[\"Personality\"])\n",
    "y_clean = data[\"Personality\"]\n",
    "\n",
    "print(\"Final shapes -> X:\", X_clean.shape, \" y:\", y_clean.shape)\n"
   ]
  },
  {
   "cell_type": "markdown",
   "id": "9e3b8406",
   "metadata": {},
   "source": [
    "# Split data"
   ]
  },
  {
   "cell_type": "code",
   "execution_count": 20,
   "id": "6c16b346",
   "metadata": {},
   "outputs": [],
   "source": [
    "X_trainval, X_test, y_trainval, y_test = train_test_split(\n",
    "    X_clean, y_clean,\n",
    "    test_size=0.2,              \n",
    "    random_state=42,\n",
    "    stratify=y_clean            \n",
    ")\n",
    "X_train, X_val, y_train, y_val = train_test_split(\n",
    "    X_trainval, y_trainval,\n",
    "    test_size=0.25,            \n",
    "    random_state=42,\n",
    "    stratify=y_trainval\n",
    ")"
   ]
  },
  {
   "cell_type": "code",
   "execution_count": 21,
   "id": "84b02bfd",
   "metadata": {},
   "outputs": [
    {
     "name": "stdout",
     "output_type": "stream",
     "text": [
      "Train shape     : (1506, 7) (1506,)\n",
      "Validation shape: (503, 7) (503,)\n",
      "Test shape      : (503, 7) (503,)\n"
     ]
    }
   ],
   "source": [
    "print(\"Train shape     :\", X_train.shape, y_train.shape)\n",
    "print(\"Validation shape:\", X_val.shape, y_val.shape)\n",
    "print(\"Test shape      :\", X_test.shape, y_test.shape)"
   ]
  },
  {
   "cell_type": "markdown",
   "id": "130d2ca0",
   "metadata": {},
   "source": [
    "# Preprocessing Pipeline"
   ]
  },
  {
   "cell_type": "code",
   "execution_count": 22,
   "id": "0eee2820",
   "metadata": {},
   "outputs": [],
   "source": [
    "cat_cols = X_train.select_dtypes(include=\"object\").columns.tolist()\n",
    "num_cols = X_train.select_dtypes(exclude=\"object\").columns.tolist()\n",
    "\n",
    "num_trans = Pipeline([\n",
    "    (\"imputer\", SimpleImputer(strategy=\"median\")),  \n",
    "    (\"scaler\", StandardScaler())                    \n",
    "])\n",
    "\n",
    "cat_trans = Pipeline([\n",
    "    (\"imputer\", SimpleImputer(strategy=\"most_frequent\")),  \n",
    "    (\"onehot\", OneHotEncoder(handle_unknown=\"ignore\"))     \n",
    "])\n",
    "\n",
    "preprocess = ColumnTransformer([\n",
    "    (\"num\", num_trans, num_cols),\n",
    "    (\"cat\", cat_trans, cat_cols)\n",
    "])\n"
   ]
  },
  {
   "cell_type": "markdown",
   "id": "183e51e2",
   "metadata": {},
   "source": [
    "# Label Encoding"
   ]
  },
  {
   "cell_type": "code",
   "execution_count": 26,
   "id": "b9335e7f",
   "metadata": {},
   "outputs": [],
   "source": [
    "le = LabelEncoder()\n",
    "y_train_enc = le.fit_transform(y_train)\n",
    "y_val_enc   = le.transform(y_val)\n",
    "y_test_enc  = le.transform(y_test)\n",
    "avg_type = \"binary\" if len(le.classes_) == 2 else \"macro\""
   ]
  },
  {
   "cell_type": "markdown",
   "id": "6b4d2fbc",
   "metadata": {},
   "source": [
    "# SVM training and selecting the best parameter"
   ]
  },
  {
   "cell_type": "code",
   "execution_count": 32,
   "id": "4aa3fe48",
   "metadata": {},
   "outputs": [],
   "source": [
    "\n",
    "svm_candidates = []\n",
    "for C in [0.1, 1, 10]:\n",
    "    for gamma in [\"scale\", \"auto\"]:\n",
    "        clf = Pipeline([\n",
    "            (\"prep\", preprocess),\n",
    "            (\"model\", SVC(kernel=\"rbf\", C=C, gamma=gamma, probability=True, class_weight=\"balanced\", random_state=42))\n",
    "        ])\n",
    "        clf.fit(X_train, y_train_enc)\n",
    "        y_val_pred = clf.predict(X_val)\n",
    "        f1 = f1_score(y_val_enc, y_val_pred, average=avg_type)\n",
    "        svm_candidates.append(((C, gamma), f1, clf))\n",
    "\n",
    "best_C, best_gamma = max(svm_candidates, key=lambda x: x[1])[0]"
   ]
  },
  {
   "cell_type": "markdown",
   "id": "cf934a13",
   "metadata": {},
   "source": [
    "# decision tree training and selecting the best parameter"
   ]
  },
  {
   "cell_type": "code",
   "execution_count": 33,
   "id": "9c8c776c",
   "metadata": {},
   "outputs": [],
   "source": [
    "dt_candidates = []\n",
    "for max_depth in [None, 5, 10, 20]:\n",
    "    for min_split in [2, 10]:\n",
    "        clf = Pipeline([\n",
    "            (\"prep\", preprocess),\n",
    "            (\"model\", DecisionTreeClassifier(\n",
    "                random_state=42, class_weight=\"balanced\",\n",
    "                max_depth=max_depth, min_samples_split=min_split\n",
    "            ))\n",
    "        ])\n",
    "        clf.fit(X_train, y_train_enc)\n",
    "        y_val_pred = clf.predict(X_val)\n",
    "        f1 = f1_score(y_val_enc, y_val_pred, average=avg_type)\n",
    "        dt_candidates.append(((max_depth, min_split), f1, clf))\n",
    "\n",
    "best_depth, best_split = max(dt_candidates, key=lambda x: x[1])[0]"
   ]
  },
  {
   "cell_type": "markdown",
   "id": "d3f8ef6c",
   "metadata": {},
   "source": [
    "# Final training with the best parameters and evaluation on Test"
   ]
  },
  {
   "cell_type": "code",
   "execution_count": 38,
   "id": "479b4ffe",
   "metadata": {},
   "outputs": [
    {
     "name": "stdout",
     "output_type": "stream",
     "text": [
      "              precision    recall  f1-score   support\n",
      "\n",
      "           0       0.94      0.90      0.92       284\n",
      "           1       0.88      0.93      0.90       219\n",
      "\n",
      "    accuracy                           0.91       503\n",
      "   macro avg       0.91      0.92      0.91       503\n",
      "weighted avg       0.92      0.91      0.91       503\n",
      "\n",
      "[[256  28]\n",
      " [ 15 204]]\n",
      "\n",
      "Decision Tree Test Report:\n",
      "              precision    recall  f1-score   support\n",
      "\n",
      "           0       0.94      0.90      0.92       284\n",
      "           1       0.88      0.93      0.90       219\n",
      "\n",
      "    accuracy                           0.91       503\n",
      "   macro avg       0.91      0.92      0.91       503\n",
      "weighted avg       0.92      0.91      0.91       503\n",
      "\n",
      "Confusion Matrix (DT):\n",
      " [[256  28]\n",
      " [ 15 204]]\n"
     ]
    }
   ],
   "source": [
    "svm_final = Pipeline([\n",
    "    (\"prep\", preprocess),\n",
    "    (\"model\", SVC(kernel=\"rbf\", C=best_C, gamma=best_gamma, probability=True, class_weight=\"balanced\", random_state=42))\n",
    "])\n",
    "svm_final.fit(pd.concat([X_train, X_val]), le.transform(pd.concat([y_train, y_val])))\n",
    "y_test_pred_svm = svm_final.predict(X_test)\n",
    "\n",
    "print(classification_report(y_test_enc, y_test_pred_svm))\n",
    "print(confusion_matrix(y_test_enc, y_test_pred_svm))\n",
    "\n",
    "dt_final = Pipeline([\n",
    "    (\"prep\", preprocess),\n",
    "    (\"model\", DecisionTreeClassifier(random_state=42, class_weight=\"balanced\", max_depth=best_depth, min_samples_split=best_split))\n",
    "])\n",
    "dt_final.fit(pd.concat([X_train, X_val]), le.transform(pd.concat([y_train, y_val])))\n",
    "y_test_pred_dt = dt_final.predict(X_test)\n",
    "\n",
    "print(\"\\nDecision Tree Test Report:\")\n",
    "print(classification_report(y_test_enc, y_test_pred_dt, zero_division=0))\n",
    "print(\"Confusion Matrix (DT):\\n\", confusion_matrix(y_test_enc, y_test_pred_dt))"
   ]
  },
  {
   "cell_type": "markdown",
   "id": "e976af0f",
   "metadata": {},
   "source": [
    "# Draw ROC Curve"
   ]
  },
  {
   "cell_type": "code",
   "execution_count": 36,
   "id": "97c252c3",
   "metadata": {},
   "outputs": [
    {
     "data": {
      "image/png": "[encoded data removed]",
      "text/plain": [
       "<Figure size 640x480 with 1 Axes>"
      ]
     },
     "metadata": {},
     "output_type": "display_data"
    }
   ],
   "source": [
    "y_proba_svm = svm_final.predict_proba(X_test)\n",
    "fpr, tpr, _ = roc_curve(y_test_enc, y_proba_svm[:, 1])\n",
    "roc_auc = auc(fpr, tpr)\n",
    "plt.figure()\n",
    "plt.plot(fpr, tpr, label=f\"AUC = {roc_auc:.3f}\")\n",
    "plt.plot([0, 1], [0, 1], linestyle=\"--\")\n",
    "plt.xlabel(\"False Positive Rate\")\n",
    "plt.ylabel(\"True Positive Rate\")\n",
    "plt.title(\"ROC - SVM\")\n",
    "plt.legend()\n",
    "plt.show()"
   ]
  },
  {
   "cell_type": "code",
   "execution_count": 39,
   "id": "14cce9a1",
   "metadata": {},
   "outputs": [
    {
     "data": {
      "image/png": "[encoded data removed]",
      "text/plain": [
       "<Figure size 640x480 with 1 Axes>"
      ]
     },
     "metadata": {},
     "output_type": "display_data"
    }
   ],
   "source": [
    "y_proba_dt = dt_final.predict_proba(X_test)\n",
    "fpr, tpr, _ = roc_curve(y_test_enc,  y_proba_dt[:, 1])\n",
    "roc_auc = auc(fpr, tpr)\n",
    "plt.figure()\n",
    "plt.plot(fpr, tpr, label=f\"AUC = {roc_auc:.3f}\")\n",
    "plt.plot([0, 1], [0, 1], linestyle=\"--\")\n",
    "plt.xlabel(\"False Positive Rate\")\n",
    "plt.ylabel(\"True Positive Rate\")\n",
    "plt.title(\"ROC - Decision Tree\")\n",
    "plt.legend()\n",
    "plt.show()"
   ]
  },
  {
   "cell_type": "markdown",
   "id": "ba2b1b5d",
   "metadata": {},
   "source": [
    "# Data preparation"
   ]
  },
  {
   "cell_type": "code",
   "execution_count": 41,
   "id": "076ee3fa",
   "metadata": {},
   "outputs": [],
   "source": [
    "X_full = df.drop(columns=['Personality'])\n",
    "\n",
    "cat_cols_full = X_full.select_dtypes(include=\"object\").columns.tolist()\n",
    "num_cols_full = X_full.select_dtypes(exclude=\"object\").columns.tolist()\n",
    "\n",
    "prep_cluster = ColumnTransformer([\n",
    "    (\"num\", Pipeline([(\"imputer\", SimpleImputer(strategy=\"median\")), (\"scaler\", StandardScaler())]), num_cols_full),\n",
    "    (\"cat\", Pipeline([(\"imputer\", SimpleImputer(strategy=\"most_frequent\")), (\"onehot\", OneHotEncoder(handle_unknown=\"ignore\"))]), cat_cols_full),\n",
    "], remainder=\"drop\")\n",
    "\n",
    "Z = prep_cluster.fit_transform(X_full)"
   ]
  },
  {
   "cell_type": "markdown",
   "id": "dd0218a4",
   "metadata": {},
   "source": [
    "# Elbow Method"
   ]
  },
  {
   "cell_type": "code",
   "execution_count": 42,
   "id": "159bea70",
   "metadata": {},
   "outputs": [
    {
     "data": {
      "image/png": "[encoded data removed]",
      "text/plain": [
       "<Figure size 640x480 with 1 Axes>"
      ]
     },
     "metadata": {},
     "output_type": "display_data"
    }
   ],
   "source": [
    "inertias = []\n",
    "Ks = list(range(1, 11))\n",
    "for k in Ks:\n",
    "    km = KMeans(n_clusters=k, random_state=42, n_init=10)\n",
    "    km.fit(Z)\n",
    "    inertias.append(km.inertia_)\n",
    "\n",
    "plt.plot(Ks, inertias, marker='o')\n",
    "plt.xlabel(\"K\")\n",
    "plt.ylabel(\"Inertia\")\n",
    "plt.title(\"Elbow Method\")\n",
    "plt.show()"
   ]
  },
  {
   "cell_type": "markdown",
   "id": "0e39fc9f",
   "metadata": {},
   "source": [
    "# Silhouette Score (K>=2)\n"
   ]
  },
  {
   "cell_type": "code",
   "execution_count": 43,
   "id": "ca4338b0",
   "metadata": {},
   "outputs": [
    {
     "data": {
      "image/png": "[encoded data removed]",
      "text/plain": [
       "<Figure size 640x480 with 1 Axes>"
      ]
     },
     "metadata": {},
     "output_type": "display_data"
    }
   ],
   "source": [
    "sils = []\n",
    "Ks_sil = list(range(2, 11))\n",
    "for k in Ks_sil:\n",
    "    km = KMeans(n_clusters=k, random_state=42, n_init=10)\n",
    "    labels = km.fit_predict(Z)\n",
    "    sils.append(silhouette_score(Z, labels))\n",
    "\n",
    "plt.plot(Ks_sil, sils, marker='o')\n",
    "plt.xlabel(\"K\")\n",
    "plt.ylabel(\"Silhouette Score\")\n",
    "plt.title(\"Silhouette Scores\")\n",
    "plt.show()"
   ]
  },
  {
   "cell_type": "markdown",
   "id": "c76b4487",
   "metadata": {},
   "source": [
    "# Choosing the best K based on the highest Silhouette"
   ]
  },
  {
   "cell_type": "code",
   "execution_count": 44,
   "id": "c801dd52",
   "metadata": {},
   "outputs": [
    {
     "name": "stdout",
     "output_type": "stream",
     "text": [
      "Selected K: 2\n"
     ]
    }
   ],
   "source": [
    "best_k = Ks_sil[int(np.argmax(sils))]\n",
    "print(\"Selected K:\", best_k)"
   ]
  },
  {
   "cell_type": "markdown",
   "id": "62dcfe3f",
   "metadata": {},
   "source": [
    "# K-Means"
   ]
  },
  {
   "cell_type": "code",
   "execution_count": 45,
   "id": "68631704",
   "metadata": {},
   "outputs": [
    {
     "data": {
      "text/html": [
       "<div>\n",
       "<style scoped>\n",
       "    .dataframe tbody tr th:only-of-type {\n",
       "        vertical-align: middle;\n",
       "    }\n",
       "\n",
       "    .dataframe tbody tr th {\n",
       "        vertical-align: top;\n",
       "    }\n",
       "\n",
       "    .dataframe thead th {\n",
       "        text-align: right;\n",
       "    }\n",
       "</style>\n",
       "<table border=\"1\" class=\"dataframe\">\n",
       "  <thead>\n",
       "    <tr style=\"text-align: right;\">\n",
       "      <th></th>\n",
       "      <th>Time_spent_Alone</th>\n",
       "      <th>Stage_fear</th>\n",
       "      <th>Social_event_attendance</th>\n",
       "      <th>Going_outside</th>\n",
       "      <th>Drained_after_socializing</th>\n",
       "      <th>Friends_circle_size</th>\n",
       "      <th>Post_frequency</th>\n",
       "      <th>Personality</th>\n",
       "      <th>Cluster</th>\n",
       "    </tr>\n",
       "  </thead>\n",
       "  <tbody>\n",
       "    <tr>\n",
       "      <th>0</th>\n",
       "      <td>4.0</td>\n",
       "      <td>No</td>\n",
       "      <td>4.0</td>\n",
       "      <td>6.0</td>\n",
       "      <td>No</td>\n",
       "      <td>13.0</td>\n",
       "      <td>5.0</td>\n",
       "      <td>Extrovert</td>\n",
       "      <td>0</td>\n",
       "    </tr>\n",
       "    <tr>\n",
       "      <th>1</th>\n",
       "      <td>9.0</td>\n",
       "      <td>Yes</td>\n",
       "      <td>0.0</td>\n",
       "      <td>0.0</td>\n",
       "      <td>Yes</td>\n",
       "      <td>0.0</td>\n",
       "      <td>3.0</td>\n",
       "      <td>Introvert</td>\n",
       "      <td>1</td>\n",
       "    </tr>\n",
       "    <tr>\n",
       "      <th>2</th>\n",
       "      <td>9.0</td>\n",
       "      <td>Yes</td>\n",
       "      <td>1.0</td>\n",
       "      <td>2.0</td>\n",
       "      <td>Yes</td>\n",
       "      <td>5.0</td>\n",
       "      <td>2.0</td>\n",
       "      <td>Introvert</td>\n",
       "      <td>1</td>\n",
       "    </tr>\n",
       "    <tr>\n",
       "      <th>3</th>\n",
       "      <td>0.0</td>\n",
       "      <td>No</td>\n",
       "      <td>6.0</td>\n",
       "      <td>7.0</td>\n",
       "      <td>No</td>\n",
       "      <td>14.0</td>\n",
       "      <td>8.0</td>\n",
       "      <td>Extrovert</td>\n",
       "      <td>0</td>\n",
       "    </tr>\n",
       "    <tr>\n",
       "      <th>4</th>\n",
       "      <td>3.0</td>\n",
       "      <td>No</td>\n",
       "      <td>9.0</td>\n",
       "      <td>4.0</td>\n",
       "      <td>No</td>\n",
       "      <td>8.0</td>\n",
       "      <td>5.0</td>\n",
       "      <td>Extrovert</td>\n",
       "      <td>0</td>\n",
       "    </tr>\n",
       "  </tbody>\n",
       "</table>\n",
       "</div>"
      ],
      "text/plain": [
       "   Time_spent_Alone Stage_fear  Social_event_attendance  Going_outside  \\\n",
       "0               4.0         No                      4.0            6.0   \n",
       "1               9.0        Yes                      0.0            0.0   \n",
       "2               9.0        Yes                      1.0            2.0   \n",
       "3               0.0         No                      6.0            7.0   \n",
       "4               3.0         No                      9.0            4.0   \n",
       "\n",
       "  Drained_after_socializing  Friends_circle_size  Post_frequency Personality  \\\n",
       "0                        No                 13.0             5.0   Extrovert   \n",
       "1                       Yes                  0.0             3.0   Introvert   \n",
       "2                       Yes                  5.0             2.0   Introvert   \n",
       "3                        No                 14.0             8.0   Extrovert   \n",
       "4                        No                  8.0             5.0   Extrovert   \n",
       "\n",
       "   Cluster  \n",
       "0        0  \n",
       "1        1  \n",
       "2        1  \n",
       "3        0  \n",
       "4        0  "
      ]
     },
     "execution_count": 45,
     "metadata": {},
     "output_type": "execute_result"
    }
   ],
   "source": [
    "kmeans_final = KMeans(n_clusters=best_k, random_state=42, n_init=10)\n",
    "cluster_labels = kmeans_final.fit_predict(Z)\n",
    "\n",
    "df_clusters = df.copy()\n",
    "df_clusters['Cluster'] = cluster_labels\n",
    "df_clusters.head()"
   ]
  },
  {
   "cell_type": "code",
   "execution_count": 46,
   "id": "5e0439d0",
   "metadata": {},
   "outputs": [
    {
     "data": {
      "image/png": "[encoded data removed]",
      "text/plain": [
       "<Figure size 600x500 with 2 Axes>"
      ]
     },
     "metadata": {},
     "output_type": "display_data"
    }
   ],
   "source": [
    "pca = PCA(n_components=2, random_state=42)\n",
    "Z2 = pca.fit_transform(Z)\n",
    "\n",
    "plt.figure(figsize=(6, 5))\n",
    "plt.scatter(Z2[:, 0], Z2[:, 1], c=cluster_labels, cmap='viridis', s=20)\n",
    "plt.xlabel(\"PC1\")\n",
    "plt.ylabel(\"PC2\")\n",
    "plt.title(\"K-Means Clusters (PCA 2D)\")\n",
    "plt.colorbar(label=\"Cluster\")\n",
    "plt.show()"
   ]
  },
  {
   "cell_type": "markdown",
   "id": "04b5fe2e",
   "metadata": {},
   "source": [
    "#  analysis of each cluster"
   ]
  },
  {
   "cell_type": "code",
   "execution_count": 47,
   "id": "4e1ca631",
   "metadata": {},
   "outputs": [
    {
     "data": {
      "text/html": [
       "<div>\n",
       "<style scoped>\n",
       "    .dataframe tbody tr th:only-of-type {\n",
       "        vertical-align: middle;\n",
       "    }\n",
       "\n",
       "    .dataframe tbody tr th {\n",
       "        vertical-align: top;\n",
       "    }\n",
       "\n",
       "    .dataframe thead th {\n",
       "        text-align: right;\n",
       "    }\n",
       "</style>\n",
       "<table border=\"1\" class=\"dataframe\">\n",
       "  <thead>\n",
       "    <tr style=\"text-align: right;\">\n",
       "      <th></th>\n",
       "      <th>Cluster</th>\n",
       "      <th>Size</th>\n",
       "      <th>mean_Time_spent_Alone</th>\n",
       "      <th>mean_Social_event_attendance</th>\n",
       "      <th>mean_Going_outside</th>\n",
       "      <th>mean_Friends_circle_size</th>\n",
       "      <th>mean_Post_frequency</th>\n",
       "      <th>mode_Stage_fear</th>\n",
       "      <th>mode_Drained_after_socializing</th>\n",
       "    </tr>\n",
       "  </thead>\n",
       "  <tbody>\n",
       "    <tr>\n",
       "      <th>0</th>\n",
       "      <td>0</td>\n",
       "      <td>1459</td>\n",
       "      <td>1.529123</td>\n",
       "      <td>6.440559</td>\n",
       "      <td>4.970526</td>\n",
       "      <td>9.830867</td>\n",
       "      <td>6.049123</td>\n",
       "      <td>No</td>\n",
       "      <td>No</td>\n",
       "    </tr>\n",
       "    <tr>\n",
       "      <th>1</th>\n",
       "      <td>1</td>\n",
       "      <td>1441</td>\n",
       "      <td>7.509915</td>\n",
       "      <td>1.447443</td>\n",
       "      <td>1.007097</td>\n",
       "      <td>2.668803</td>\n",
       "      <td>1.053901</td>\n",
       "      <td>Yes</td>\n",
       "      <td>Yes</td>\n",
       "    </tr>\n",
       "  </tbody>\n",
       "</table>\n",
       "</div>"
      ],
      "text/plain": [
       "   Cluster  Size  mean_Time_spent_Alone  mean_Social_event_attendance  \\\n",
       "0        0  1459               1.529123                      6.440559   \n",
       "1        1  1441               7.509915                      1.447443   \n",
       "\n",
       "   mean_Going_outside  mean_Friends_circle_size  mean_Post_frequency  \\\n",
       "0            4.970526                  9.830867             6.049123   \n",
       "1            1.007097                  2.668803             1.053901   \n",
       "\n",
       "  mode_Stage_fear mode_Drained_after_socializing  \n",
       "0              No                             No  \n",
       "1             Yes                            Yes  "
      ]
     },
     "execution_count": 47,
     "metadata": {},
     "output_type": "execute_result"
    }
   ],
   "source": [
    "dfc = df.drop(columns=['Personality']).copy()\n",
    "dfc[\"Cluster\"] = cluster_labels\n",
    "rows = []\n",
    "for k in sorted(dfc[\"Cluster\"].unique()):\n",
    "    sub = dfc[dfc[\"Cluster\"] == k]\n",
    "    row = {\"Cluster\": k, \"Size\": len(sub)}\n",
    "    for col in num_cols_full:\n",
    "        row[f\"mean_{col}\"] = sub[col].mean()\n",
    "    for col in cat_cols_full:\n",
    "        mode_val = sub[col].mode(dropna=True)\n",
    "        row[f\"mode_{col}\"] = mode_val.iloc[0] if not mode_val.empty else None\n",
    "    rows.append(row)\n",
    "cluster_summary = pd.DataFrame(rows)\n",
    "cluster_summary"
   ]
  }
 ],
 "metadata": {
  "kernelspec": {
   "display_name": "Python 3",
   "language": "python",
   "name": "python3"
  },
  "language_info": {
   "codemirror_mode": {
    "name": "ipython",
    "version": 3
   },
   "file_extension": ".py",
   "mimetype": "text/x-python",
   "name": "python",
   "nbconvert_exporter": "python",
   "pygments_lexer": "ipython3",
   "version": "3.11.9"
  }
 },
 "nbformat": 4,
 "nbformat_minor": 5
}
